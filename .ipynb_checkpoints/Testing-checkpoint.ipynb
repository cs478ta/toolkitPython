{
 "cells": [
  {
   "cell_type": "code",
   "execution_count": 4,
   "metadata": {},
   "outputs": [
    {
     "name": "stdout",
     "output_type": "stream",
     "text": [
      "\n",
      "Dataset name: ./test/datasets/creditapproval.arff\n",
      "Number of instances: 690\n",
      "Number of attributes: 16\n",
      "Learning algorithm: BaselineLearner\n",
      "Evaluation method: training\n",
      "\n",
      "Calculating accuracy on training set...\n",
      "Time to train (in seconds): 0.0019936561584472656\n",
      "Training set accuracy: 0.5550724637681159\n"
     ]
    }
   ],
   "source": [
    "%reload_ext autoreload\n",
    "%autoreload 2\n",
    "\n",
    "import os\n",
    "from toolkit import baseline_learner, utils, manager, arff\n",
    "\n",
    "data = r\"./test/datasets/creditapproval.arff\"\n",
    "my_learner = baseline_learner.BaselineLearner\n",
    "session = manager.ToolkitSession(arff=data, learner=my_learner, eval_method=\"training\", eval_parameter=None, print_confusion_matrix=False, normalize=False, random_seed=None)\n",
    "# print(session.arff.data)\n",
    "# session.arff.data=session.arff.data[:10,:]\n",
    "# print(session.arff)"
   ]
  },
  {
   "cell_type": "code",
   "execution_count": 3,
   "metadata": {},
   "outputs": [],
   "source": [
    "import scipy"
   ]
  },
  {
   "cell_type": "code",
   "execution_count": 67,
   "metadata": {},
   "outputs": [
    {
     "name": "stdout",
     "output_type": "stream",
     "text": [
      "/media/taylor/eef4fe97-0587-4acb-b65d-f0ad5ed8d623/taylor/GitHub/realToolkit\n",
      "(b'', b'Traceback (most recent call last):\\n  File \"./toolkit/manager.py\", line 3, in <module>\\n    from .supervised_learner import SupervisedLearner\\nModuleNotFoundError: No module named \\'__main__.supervised_learner\\'; \\'__main__\\' is not a package\\n') 1\n"
     ]
    }
   ],
   "source": [
    "import subprocess\n",
    "import os\n",
    "print(os.getcwd())\n",
    "data=\"./test/datasets/iris.arff\"\n",
    "args = [\"L\", \"baseline\", \"A\", data, \"E\", \"training\"]\n",
    "command = [r\"python\", \"./toolkit/manager.py\", *args]\n",
    "child = subprocess.Popen([*command], shell=False, stdout=subprocess.PIPE, \n",
    "                           stderr=subprocess.PIPE)\n",
    "\n",
    "print(child.communicate(),child.returncode)"
   ]
  },
  {
   "cell_type": "code",
   "execution_count": 88,
   "metadata": {},
   "outputs": [
    {
     "name": "stdout",
     "output_type": "stream",
     "text": [
      "[101.    30.83   0.     0.     0.     9.     0.     1.25   0.     0.\n",
      "   1.     1.     0.   202.     0.     0.  ]\n",
      "[  0.    30.83   0.     0.     0.     9.     0.     1.25   0.     0.\n",
      "   1.     1.     0.   202.     0.     0.  ]\n"
     ]
    }
   ],
   "source": [
    "%reload_ext autoreload\n",
    "%autoreload 2\n",
    "\n",
    "import os\n",
    "from toolkit import baseline_learner, utils, manager, arff\n",
    "\n",
    "data = r\"./test/datasets/creditapproval.arff\"\n",
    "\n",
    "d=arff.Arff(data)\n",
    "e=arff.Arff(data)\n",
    "d[0,0]=101\n",
    "print(d.data[0])\n",
    "print(e.data[0])"
   ]
  },
  {
   "cell_type": "code",
   "execution_count": 93,
   "metadata": {},
   "outputs": [
    {
     "data": {
      "text/plain": [
       "array([[2, 1, 0],\n",
       "       [8, 7, 6]])"
      ]
     },
     "execution_count": 93,
     "metadata": {},
     "output_type": "execute_result"
    }
   ],
   "source": [
    "arr = np.asarray(range(0,9)).reshape(3,3)\n",
    "arr[::2,-1::-1]"
   ]
  },
  {
   "cell_type": "code",
   "execution_count": 43,
   "metadata": {},
   "outputs": [
    {
     "name": "stdout",
     "output_type": "stream",
     "text": [
      "[[0.000e+00 3.083e+01 0.000e+00 ... 2.020e+02 0.000e+00 0.000e+00]\n",
      " [1.000e+00 5.867e+01 4.460e+00 ... 4.300e+01 5.600e+02 0.000e+00]\n",
      " [1.000e+00 2.450e+01 5.000e-01 ... 2.800e+02 8.240e+02 0.000e+00]\n",
      " ...\n",
      " [1.000e+00 2.525e+01 1.350e+01 ... 2.000e+02 1.000e+00 1.000e+00]\n",
      " [0.000e+00 1.792e+01 2.050e-01 ... 2.800e+02 7.500e+02 1.000e+00]\n",
      " [0.000e+00 3.500e+01 3.375e+00 ... 0.000e+00 0.000e+00 1.000e+00]]\n"
     ]
    },
    {
     "data": {
      "text/plain": [
       "array([[  0.,   8., 560.],\n",
       "       [  0.,   8., 824.],\n",
       "       [  0.,   9.,   3.],\n",
       "       [  0.,   9.,   0.]])"
      ]
     },
     "execution_count": 43,
     "metadata": {},
     "output_type": "execute_result"
    }
   ],
   "source": [
    "print(x)\n",
    "x[1:5,(3,5,14)]"
   ]
  },
  {
   "cell_type": "code",
   "execution_count": null,
   "metadata": {},
   "outputs": [],
   "source": []
  },
  {
   "cell_type": "code",
   "execution_count": 189,
   "metadata": {},
   "outputs": [
    {
     "name": "stdout",
     "output_type": "stream",
     "text": [
      "HERE <class 'toolkit.arff.Arff'>\n",
      "HE\n",
      "THERE <class 'toolkit.arff.Arff'>\n"
     ]
    }
   ],
   "source": [
    "%reload_ext autoreload\n",
    "%autoreload 2\n",
    "f = e.create_subset_arff([1,2,3,9],slice(0,3))"
   ]
  },
  {
   "cell_type": "code",
   "execution_count": 183,
   "metadata": {},
   "outputs": [
    {
     "data": {
      "text/plain": [
       "True"
      ]
     },
     "execution_count": 183,
     "metadata": {},
     "output_type": "execute_result"
    }
   ],
   "source": [
    "e[0:None,:].shape==e.data.shape"
   ]
  },
  {
   "cell_type": "code",
   "execution_count": 190,
   "metadata": {},
   "outputs": [
    {
     "name": "stdout",
     "output_type": "stream",
     "text": [
      "@RELATION Untitled_subset\n",
      "@ATTRIBUTE 0 CONTINUOUS\n",
      "@ATTRIBUTE 1 CONTINUOUS\n",
      "@ATTRIBUTE 2 CONTINUOUS\n",
      "@DATA\n",
      "1.0, 58.67, 4.46\n",
      "1.0, 24.5, 0.5\n",
      "0.0, 27.83, 1.54\n",
      "0.0, 42.5, 4.915\n",
      "\n"
     ]
    }
   ],
   "source": [
    "print(f)"
   ]
  },
  {
   "cell_type": "code",
   "execution_count": 192,
   "metadata": {},
   "outputs": [
    {
     "data": {
      "text/plain": [
       "True"
      ]
     },
     "execution_count": 192,
     "metadata": {},
     "output_type": "execute_result"
    }
   ],
   "source": [
    "isinstance(f,type(e))"
   ]
  },
  {
   "cell_type": "code",
   "execution_count": 215,
   "metadata": {},
   "outputs": [
    {
     "name": "stdout",
     "output_type": "stream",
     "text": [
      "[[  0.    54.42   0.5    1.     1.     5.     1.     3.96   0.     1.\n",
      "    0.     1.     0.   180.   314.     0.  ]]\n"
     ]
    },
    {
     "ename": "TypeError",
     "evalue": "'RClass' object is not callable",
     "output_type": "error",
     "traceback": [
      "\u001b[0;31m---------------------------------------------------------------------------\u001b[0m",
      "\u001b[0;31mTypeError\u001b[0m                                 Traceback (most recent call last)",
      "\u001b[0;32m<ipython-input-215-0538818226dc>\u001b[0m in \u001b[0;36m<module>\u001b[0;34m\u001b[0m\n\u001b[1;32m      3\u001b[0m \u001b[0mprint\u001b[0m\u001b[0;34m(\u001b[0m\u001b[0me\u001b[0m\u001b[0;34m.\u001b[0m\u001b[0mdata\u001b[0m\u001b[0;34m[\u001b[0m\u001b[0mcol_idx\u001b[0m\u001b[0;34m]\u001b[0m\u001b[0;34m)\u001b[0m\u001b[0;34m\u001b[0m\u001b[0;34m\u001b[0m\u001b[0m\n\u001b[1;32m      4\u001b[0m \u001b[0;31m#col_idx = [3,4,7,9]\u001b[0m\u001b[0;34m\u001b[0m\u001b[0;34m\u001b[0m\u001b[0;34m\u001b[0m\u001b[0m\n\u001b[0;32m----> 5\u001b[0;31m \u001b[0mrequested_columns\u001b[0m \u001b[0;34m=\u001b[0m \u001b[0mnp\u001b[0m\u001b[0;34m.\u001b[0m\u001b[0mr_\u001b[0m\u001b[0;34m(\u001b[0m\u001b[0me\u001b[0m\u001b[0;34m.\u001b[0m\u001b[0mdata\u001b[0m\u001b[0;34m[\u001b[0m\u001b[0mcol_idx\u001b[0m\u001b[0;34m]\u001b[0m\u001b[0;34m)\u001b[0m\u001b[0;34m\u001b[0m\u001b[0;34m\u001b[0m\u001b[0m\n\u001b[0m\u001b[1;32m      6\u001b[0m \u001b[0mprint\u001b[0m\u001b[0;34m(\u001b[0m\u001b[0mrequested_columns\u001b[0m\u001b[0;34m)\u001b[0m\u001b[0;34m\u001b[0m\u001b[0;34m\u001b[0m\u001b[0m\n\u001b[1;32m      7\u001b[0m \u001b[0mprint\u001b[0m\u001b[0;34m(\u001b[0m\u001b[0mcol_idx\u001b[0m\u001b[0;34m.\u001b[0m\u001b[0mstop\u001b[0m\u001b[0;34m)\u001b[0m\u001b[0;34m\u001b[0m\u001b[0;34m\u001b[0m\u001b[0m\n",
      "\u001b[0;31mTypeError\u001b[0m: 'RClass' object is not callable"
     ]
    }
   ],
   "source": [
    "import numpy as np\n",
    "col_idx = slice(8,-1)\n",
    "print(e.data[col_idx])\n",
    "#col_idx = [3,4,7,9]\n",
    "requested_columns = np.r_(e.data[col_idx])\n",
    "print(requested_columns)\n",
    "print(col_idx.stop)\n"
   ]
  },
  {
   "cell_type": "code",
   "execution_count": 2,
   "metadata": {},
   "outputs": [
    {
     "data": {
      "text/plain": [
       "True"
      ]
     },
     "execution_count": 2,
     "metadata": {},
     "output_type": "execute_result"
    }
   ],
   "source": [
    "isinstance(r\"THIS/that/theother.arff\", str)"
   ]
  },
  {
   "cell_type": "code",
   "execution_count": 10,
   "metadata": {},
   "outputs": [
    {
     "name": "stdout",
     "output_type": "stream",
     "text": [
      "True\n",
      "<class '__main__.klf'>\n",
      "<class '__main__.klf'>\n"
     ]
    }
   ],
   "source": [
    "class klf:\n",
    "\n",
    "    def m(self):\n",
    "        print(type(self))\n",
    "\n",
    "m = klf()\n",
    "print(type(m) is klf)\n",
    "\n",
    "print(type(m))\n",
    "m.m()"
   ]
  },
  {
   "cell_type": "code",
   "execution_count": 12,
   "metadata": {},
   "outputs": [
    {
     "data": {
      "text/plain": [
       "['.coverage',\n",
       " '.git',\n",
       " 'venv',\n",
       " 'tox.ini',\n",
       " 'toolkit',\n",
       " 'setup.py',\n",
       " 'venv2.7',\n",
       " 'toolkit.egg-info',\n",
       " 'README.md',\n",
       " 'datasets',\n",
       " 'Testing.ipynb',\n",
       " '.gitignore',\n",
       " '.ipynb_checkpoints',\n",
       " '.idea',\n",
       " '.tox',\n",
       " 'run.py',\n",
       " 'implemented',\n",
       " 'test']"
      ]
     },
     "execution_count": 12,
     "metadata": {},
     "output_type": "execute_result"
    }
   ],
   "source": [
    "import os\n",
    "os.listdir()"
   ]
  },
  {
   "cell_type": "code",
   "execution_count": 15,
   "metadata": {},
   "outputs": [
    {
     "data": {
      "text/plain": [
       "'/'"
      ]
     },
     "execution_count": 15,
     "metadata": {},
     "output_type": "execute_result"
    }
   ],
   "source": [
    "\n",
    "\n",
    "os.path.dirname(\"/this\")"
   ]
  },
  {
   "cell_type": "code",
   "execution_count": 112,
   "metadata": {},
   "outputs": [
    {
     "name": "stdout",
     "output_type": "stream",
     "text": [
      "514.7142857142857 9.63265306122449 0.15271396733355663 2.1053397012352772\n"
     ]
    }
   ],
   "source": []
  },
  {
   "cell_type": "code",
   "execution_count": null,
   "metadata": {},
   "outputs": [],
   "source": []
  },
  {
   "cell_type": "code",
   "execution_count": null,
   "metadata": {},
   "outputs": [],
   "source": []
  }
 ],
 "metadata": {
  "kernelspec": {
   "display_name": "toolkit_kernel",
   "language": "python",
   "name": "toolkit_kernel"
  },
  "language_info": {
   "codemirror_mode": {
    "name": "ipython",
    "version": 3
   },
   "file_extension": ".py",
   "mimetype": "text/x-python",
   "name": "python",
   "nbconvert_exporter": "python",
   "pygments_lexer": "ipython3",
   "version": "3.6.7"
  }
 },
 "nbformat": 4,
 "nbformat_minor": 2
}
